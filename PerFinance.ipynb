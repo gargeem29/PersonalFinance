{
  "nbformat": 4,
  "nbformat_minor": 0,
  "metadata": {
    "colab": {
      "provenance": []
    },
    "kernelspec": {
      "name": "python3",
      "display_name": "Python 3"
    },
    "language_info": {
      "name": "python"
    }
  },
  "cells": [
    {
      "cell_type": "markdown",
      "source": [
        "###Personal Finance with AI based insights\n",
        "###By Gargee Meshram"
      ],
      "metadata": {
        "id": "AXw0QbUV55yk"
      }
    },
    {
      "cell_type": "markdown",
      "source": [
        "# Introduction\n",
        "This notebook presents the design and development approach for a Personal Finance Management App, which aims to categorize expenditures, project future costs, and provide customized financial recommendations using AI.\n",
        "\n",
        "## Objectives\n",
        "- **Spending Categorization**: Automatically classify user transactions.\n",
        "- **Expense Prediction**: Forecast upcoming expenses based on past data.\n",
        "- **Personalized Financial Guidance**: Offer tailored advice to help users manage finances.\n",
        "\n",
        "### 1. Problem Breakdown\n",
        "\n",
        "#### Key Goals\n",
        "- Classify transactions based on descriptions.\n",
        "- Use historical data to predict future expenses.\n",
        "- Generate actionable advice by analyzing spending patterns.\n",
        "\n",
        "#### Challenges\n",
        "- Protecting user data with robust security measures.\n",
        "- Implementing secure API connections to retrieve transaction data from banks.\n",
        "- Offering easily understandable and implementable financial advice.\n",
        "\n",
        "### 2. Database Design\n",
        "\n",
        "#### Schema Overview\n",
        "A relational database will store data on users, their transactions, and categorized spending patterns.\n",
        "\n",
        "#### Table Structure\n",
        "\n",
        "- **Users Table**\n",
        "  - `user_id`: Primary Key\n",
        "  - `email`: User’s email, unique to each account\n",
        "  - `password_hash`: Password stored securely as a hash\n",
        "  - `created_at`: Date and time of account creation\n",
        "\n",
        "- **Transactions Table**\n",
        "  - `transaction_id`: Primary Key\n",
        "  - `user_id`: References the Users table\n",
        "  - `description`: Details about the transaction\n",
        "  - `amount`: Transaction amount\n",
        "  - `category`: Assigned category (optional)\n",
        "  - `date`: Date of the transaction\n",
        "\n",
        "- **Spending Categories Table**\n",
        "  - `category_id`: Primary Key\n",
        "  - `category_name`: Name of the spending category\n",
        "\n",
        "- **Advice Table**\n",
        "  - `advice_id`: Primary Key\n",
        "  - `user_id`: References the Users table\n",
        "  - `advice_text`: Personalized advice content\n",
        "  - `created_at`: Timestamp indicating when the advice was generated\n",
        "\n",
        "## System Design and Architecture\n",
        "\n",
        "### Architecture Overview\n",
        "\n",
        "#### Frontend\n",
        "The app’s frontend will provide an intuitive web or mobile interface where users can enter transactions and access insights.\n",
        "\n",
        "- **Technology Stack**:\n",
        "  - Web Interface: React\n",
        "  - Mobile Interface: React Native or Flutter\n",
        "- **User Experience**: Designed to be straightforward, allowing users to quickly input data and view insights.\n",
        "\n",
        "#### Backend\n",
        "The backend will be built as a RESTful API using frameworks like Flask or Django in Python or Express.js in Node.js.\n",
        "\n",
        "- **Endpoints**:\n",
        "  - `POST /transactions`: Add a new transaction\n",
        "  - `GET /transactions`: Get all transactions for a user\n",
        "  - `GET /advice`: Fetch personalized financial advice\n",
        "  - `GET /predictions`: Get predicted future expenses\n",
        "\n",
        "- **Data Handling**: Inputs will be validated and sanitized to prevent SQL injection and other vulnerabilities.\n",
        "\n",
        "### Machine Learning Module\n",
        "This module will analyze spending habits, predict future expenses, and produce tailored advice.\n",
        "\n",
        "- **Categorization Model**: Uses NLP to classify transactions based on their descriptions, leveraging pre-trained models.\n",
        "- **Prediction Model**: Time-series forecasting (e.g., ARIMA, LSTM) will be applied to historical data to predict future spending.\n",
        "- **Advice Generation**: Examines historical data and compares it to financial best practices to create personalized advice.\n",
        "\n",
        "### Data Security\n",
        "Security measures will include data encryption and adherence to best practices for API security.\n",
        "\n",
        "- **User Authentication**: Implementing OAuth2 or JWT for secure authentication.\n",
        "- **Data Encryption**: HTTPS will be used for secure data transfer, and sensitive information will be encrypted at rest.\n",
        "\n",
        "### Thought Process and Trade-offs\n",
        "\n",
        "#### Design Decisions\n",
        "- **AI Models**: Utilizing AI allows the app to better understand and respond to individual spending behaviors, improving categorization accuracy and expense predictions.\n",
        "- **Data Minimization**: Collecting only essential data enhances user privacy and data security.\n",
        "- **Relational Database**: A relational database is chosen for its ability to handle complex queries and maintain data integrity.\n",
        "\n",
        "#### Trade-offs\n",
        "- **Real-time vs. Batch Processing**: Real-time categorization offers immediate user feedback but demands more resources, while batch processing is more efficient but may delay insights.\n",
        "- **Model Complexity vs. Simplicity**: Complex models may improve accuracy but are more resource-intensive, while simpler models are faster but may provide less precise results.\n"
      ],
      "metadata": {
        "id": "9JP66xks6ZrN"
      }
    },
    {
      "cell_type": "code",
      "source": [
        "# Task 1: Create Sample Transaction Data\n",
        "import pandas as pd\n",
        "import numpy as np\n",
        "\n",
        "# Set random seed for consistency in results\n",
        "np.random.seed(42)\n",
        "\n",
        "# Define expense categories and generate a sequence of dates\n",
        "categories = ['Groceries', 'Entertainment', 'Utilities', 'Rent', 'Transportation', 'Healthcare', 'Others']\n",
        "dates = pd.date_range(start='2022-01-01', periods=100, freq='D')\n",
        "\n",
        "# Generate random transaction data\n",
        "transaction_data = {\n",
        "    'date': np.random.choice(dates, 100),\n",
        "    'amount': np.random.randint(10, 500, size=100),\n",
        "    'category': np.random.choice(categories, 100)\n",
        "}\n",
        "\n",
        "# Create a DataFrame from the generated data\n",
        "transactions_df = pd.DataFrame(transaction_data)\n",
        "\n",
        "# Output the first few rows of the dummy transactions\n",
        "print(\"Sample Transactions Data:\")\n",
        "print(transactions_df.head())\n"
      ],
      "metadata": {
        "colab": {
          "base_uri": "https://localhost:8080/"
        },
        "id": "63HhTHL-6bwi",
        "outputId": "54d7d32d-187b-42b2-ced0-6b9e316a96be"
      },
      "execution_count": 1,
      "outputs": [
        {
          "output_type": "stream",
          "name": "stdout",
          "text": [
            "Sample Transactions Data:\n",
            "        date  amount    category\n",
            "0 2022-02-21     419        Rent\n",
            "1 2022-04-03     226        Rent\n",
            "2 2022-01-15     261  Healthcare\n",
            "3 2022-03-13     197  Healthcare\n",
            "4 2022-03-02     389   Utilities\n"
          ]
        }
      ]
    },
    {
      "cell_type": "code",
      "source": [
        "# Task 2: Categorize Expenditures\n",
        "\n",
        "def categorize_expenditures(transactions_df):\n",
        "    \"\"\"Group transactions by category and calculate the total spent in each category.\"\"\"\n",
        "    categorized_expenses = transactions_df.groupby('category')['amount'].sum().reset_index()\n",
        "    return categorized_expenses\n",
        "\n",
        "# Apply the function and show the categorized spending results\n",
        "categorized_expenditures = categorize_expenditures(transactions_df)\n",
        "print(\"\\nCategorized Expenditures:\")\n",
        "print(categorized_expenditures)\n"
      ],
      "metadata": {
        "colab": {
          "base_uri": "https://localhost:8080/"
        },
        "id": "eKrwCWbd7NPd",
        "outputId": "21c37f4c-a27b-48d1-fc32-b905c45c6048"
      },
      "execution_count": 2,
      "outputs": [
        {
          "output_type": "stream",
          "name": "stdout",
          "text": [
            "\n",
            "Categorized Expenditures:\n",
            "         category  amount\n",
            "0   Entertainment    1841\n",
            "1       Groceries    4436\n",
            "2      Healthcare    4661\n",
            "3          Others    2349\n",
            "4            Rent    2594\n",
            "5  Transportation    2294\n",
            "6       Utilities    4874\n"
          ]
        }
      ]
    },
    {
      "cell_type": "code",
      "source": [
        "!pip install statsmodels"
      ],
      "metadata": {
        "colab": {
          "base_uri": "https://localhost:8080/"
        },
        "id": "uNj_wgCJ7m4r",
        "outputId": "f46ea799-c580-40cf-a404-b13e3ca0b7c1"
      },
      "execution_count": 3,
      "outputs": [
        {
          "output_type": "stream",
          "name": "stdout",
          "text": [
            "Requirement already satisfied: statsmodels in /usr/local/lib/python3.10/dist-packages (0.14.3)\n",
            "Requirement already satisfied: numpy<3,>=1.22.3 in /usr/local/lib/python3.10/dist-packages (from statsmodels) (1.26.4)\n",
            "Requirement already satisfied: scipy!=1.9.2,>=1.8 in /usr/local/lib/python3.10/dist-packages (from statsmodels) (1.13.1)\n",
            "Requirement already satisfied: pandas!=2.1.0,>=1.4 in /usr/local/lib/python3.10/dist-packages (from statsmodels) (2.1.4)\n",
            "Requirement already satisfied: patsy>=0.5.6 in /usr/local/lib/python3.10/dist-packages (from statsmodels) (0.5.6)\n",
            "Requirement already satisfied: packaging>=21.3 in /usr/local/lib/python3.10/dist-packages (from statsmodels) (24.1)\n",
            "Requirement already satisfied: python-dateutil>=2.8.2 in /usr/local/lib/python3.10/dist-packages (from pandas!=2.1.0,>=1.4->statsmodels) (2.8.2)\n",
            "Requirement already satisfied: pytz>=2020.1 in /usr/local/lib/python3.10/dist-packages (from pandas!=2.1.0,>=1.4->statsmodels) (2024.2)\n",
            "Requirement already satisfied: tzdata>=2022.1 in /usr/local/lib/python3.10/dist-packages (from pandas!=2.1.0,>=1.4->statsmodels) (2024.1)\n",
            "Requirement already satisfied: six in /usr/local/lib/python3.10/dist-packages (from patsy>=0.5.6->statsmodels) (1.16.0)\n"
          ]
        }
      ]
    },
    {
      "cell_type": "code",
      "source": [
        "import pandas as pd\n",
        "import numpy as np\n",
        "from datetime import datetime, timedelta\n",
        "from sklearn.model_selection import train_test_split\n",
        "from sklearn.ensemble import RandomForestRegressor\n",
        "import matplotlib.pyplot as plt\n",
        "\n",
        "# Step 1: Generate Sample Transaction Data\n",
        "def generate_sample_data(start_date, months_count):\n",
        "    dates = [start_date + timedelta(days=30 * i) for i in range(months_count)]\n",
        "    amounts = np.random.randint(100, 1000, size=months_count)  # Random values between $100 and $1000\n",
        "    transactions_data = pd.DataFrame({'date': dates, 'amount': amounts})\n",
        "\n",
        "    # Save data to CSV\n",
        "    transactions_data.to_csv('sample_transactions.csv', index=False)\n",
        "    print(\"Sample transaction data has been created and saved as 'sample_transactions.csv'.\")\n",
        "\n",
        "# Generate sample data for the past 24 months\n",
        "generate_sample_data(datetime.now() - timedelta(days=30 * 24), 24)\n",
        "\n",
        "# Step 2: Load Data and Forecast Future Spending\n",
        "# Load the transaction data\n",
        "data = pd.read_csv('sample_transactions.csv')\n",
        "\n",
        "# Preprocess the data\n",
        "data['date'] = pd.to_datetime(data['date'])\n",
        "data['month'] = data['date'].dt.month\n",
        "data['year'] = data['date'].dt.year\n",
        "\n",
        "# Group data by month and year to compute total expenses each month\n",
        "monthly_expenses_data = data.groupby(['year', 'month'])['amount'].sum().reset_index()\n",
        "\n",
        "# Prepare the feature set (X) and target (y)\n",
        "# Convert month to categorical representation\n",
        "monthly_expenses_data['month'] = monthly_expenses_data['month'].astype('category').cat.codes\n",
        "\n",
        "X = monthly_expenses_data[['year', 'month']]\n",
        "y = monthly_expenses_data['amount']\n",
        "\n",
        "# Split the data into training and testing subsets\n",
        "X_train, X_test, y_train, y_test = train_test_split(X, y, test_size=0.2, random_state=42)\n",
        "\n",
        "# Instantiate and train the Random Forest Regressor model\n",
        "forecast_model = RandomForestRegressor(n_estimators=100, random_state=42)\n",
        "forecast_model.fit(X_train, y_train)\n",
        "\n",
        "# Predict future expenses for the next 6 months\n",
        "future_data = pd.DataFrame({\n",
        "    'year': [2025] * 6,  # Specifying the year for future months\n",
        "    'month': list(range(1, 7))  # Forecast for the next 6 months\n",
        "})\n",
        "# Convert month to categorical for prediction\n",
        "future_data['month'] = future_data['month'].astype('category').cat.codes\n",
        "\n",
        "predicted_values = forecast_model.predict(future_data)\n",
        "\n",
        "# Display predicted future expenses\n",
        "for i, prediction in enumerate(predicted_values):\n",
        "    print(f'Forecasted expense for {future_data.iloc[i][\"month\"] + 1}/2025: ${prediction:.2f}')  # Display with month adjustment\n",
        "\n",
        "# Step 3: Data Visualization\n",
        "plt.figure(figsize=(12, 6))\n",
        "\n",
        "# Plot actual historical expenses\n",
        "plt.bar(monthly_expenses_data['month'].astype(str) + '/' + monthly_expenses_data['year'].astype(str),\n",
        "        monthly_expenses_data['amount'], label='Actual Expenses', color='blue')\n",
        "\n",
        "# Plot predicted expenses\n",
        "forecast_months = future_data['month'].astype(str) + '/2025'\n",
        "plt.plot(forecast_months, predicted_values, marker='o', label='Predicted Expenses', color='red')\n",
        "\n",
        "# Add labels, title, and grid\n",
        "plt.title('Actual vs Predicted Monthly Expenses')\n",
        "plt.xlabel('Month/Year')\n",
        "plt.ylabel('Spending ($)')\n",
        "plt.xticks(rotation=45)\n",
        "plt.legend()\n",
        "plt.grid()\n",
        "\n",
        "# Display the plot\n",
        "plt.tight_layout()\n",
        "plt.show()\n"
      ],
      "metadata": {
        "colab": {
          "base_uri": "https://localhost:8080/",
          "height": 728
        },
        "id": "l1j0Y8vz8SF9",
        "outputId": "19be2f47-eaee-44b9-bac4-eabe979079cf"
      },
      "execution_count": 4,
      "outputs": [
        {
          "output_type": "stream",
          "name": "stdout",
          "text": [
            "Sample transaction data has been created and saved as 'sample_transactions.csv'.\n",
            "Forecasted expense for 1/2025: $683.55\n",
            "Forecasted expense for 2/2025: $378.13\n",
            "Forecasted expense for 3/2025: $354.06\n",
            "Forecasted expense for 4/2025: $752.30\n",
            "Forecasted expense for 5/2025: $776.10\n",
            "Forecasted expense for 6/2025: $867.61\n"
          ]
        },
        {
          "output_type": "display_data",
          "data": {
            "text/plain": [
              "<Figure size 1200x600 with 1 Axes>"
            ],
            "image/png": "[encoded data removed]"
          },
          "metadata": {}
        }
      ]
    },
    {
      "cell_type": "code",
      "source": [
        "import numpy as np\n",
        "import pandas as pd\n",
        "\n",
        "# Example categorized expenses for a month (typically derived from transaction data)\n",
        "expense_data = {\n",
        "    'category': ['Dining', 'Groceries', 'Transportation', 'Utilities', 'Shopping', 'Dining'],\n",
        "    'amount': [300, 400, 100, 200, 150, 50]  # Amount spent per category\n",
        "}\n",
        "\n",
        "# Create a DataFrame from the sample data\n",
        "expenses_df = pd.DataFrame(expense_data)\n",
        "\n",
        "# Function to generate personalized financial recommendations based on spending\n",
        "def generate_financial_recommendations(expenses_df):\n",
        "    recommendations = []\n",
        "    total_spending = expenses_df['amount'].sum()\n",
        "\n",
        "    # Summarize spending by category\n",
        "    category_spending = expenses_df.groupby('category')['amount'].sum().sort_values(ascending=False)\n",
        "\n",
        "    # Analyze spending patterns and give suggestions\n",
        "    if total_spending > 1000:\n",
        "        recommendations.append(\"Your total expenses are quite high this month. Consider reviewing your budget to cut costs.\")\n",
        "\n",
        "    if 'Dining' in category_spending.index and category_spending['Dining'] > 300:\n",
        "        recommendations.append(\"You are spending a significant amount on Dining. Try to cook more at home instead of eating out.\")\n",
        "\n",
        "    if 'Groceries' in category_spending.index and category_spending['Groceries'] > 500:\n",
        "        recommendations.append(\"Your grocery expenses seem high. Look for discounts or plan your meals to save money.\")\n",
        "\n",
        "    if 'Transportation' in category_spending.index and category_spending['Transportation'] > 200:\n",
        "        recommendations.append(\"Consider alternatives like public transport or carpooling to reduce transportation costs.\")\n",
        "\n",
        "    if 'Utilities' in category_spending.index and category_spending['Utilities'] > 150:\n",
        "        recommendations.append(\"Your utility bills appear to be high. Implement energy-saving practices to cut down costs.\")\n",
        "\n",
        "    if 'Shopping' in category_spending.index and category_spending['Shopping'] > 100:\n",
        "        recommendations.append(\"You are spending quite a bit on shopping. Set a limit or avoid impulse purchases to save money.\")\n",
        "\n",
        "    return recommendations\n",
        "\n",
        "# Generate and display personalized financial recommendations based on the data\n",
        "financial_recommendations = generate_financial_recommendations(expenses_df)\n",
        "print(\"Personalized Financial Recommendations:\")\n",
        "for recommendation in financial_recommendations:\n",
        "    print(f'- {recommendation}')\n"
      ],
      "metadata": {
        "colab": {
          "base_uri": "https://localhost:8080/"
        },
        "id": "Gn6k8MIA8i1H",
        "outputId": "abf37682-d2ea-4c3f-bd0e-b2a210939028"
      },
      "execution_count": 5,
      "outputs": [
        {
          "output_type": "stream",
          "name": "stdout",
          "text": [
            "Personalized Financial Recommendations:\n",
            "- Your total expenses are quite high this month. Consider reviewing your budget to cut costs.\n",
            "- You are spending a significant amount on Dining. Try to cook more at home instead of eating out.\n",
            "- Your utility bills appear to be high. Implement energy-saving practices to cut down costs.\n",
            "- You are spending quite a bit on shopping. Set a limit or avoid impulse purchases to save money.\n"
          ]
        }
      ]
    }
  ]
}